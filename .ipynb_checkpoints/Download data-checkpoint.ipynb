{
 "cells": [
  {
   "cell_type": "markdown",
   "id": "db4d34ef-7755-4291-8751-65bc84e94e8a",
   "metadata": {},
   "source": [
    "# number of dry days "
   ]
  },
  {
   "cell_type": "code",
   "execution_count": 1,
   "id": "0964511b-11c2-45b4-8b71-24996e190a43",
   "metadata": {},
   "outputs": [],
   "source": [
    "# data/plot management\n",
    "import pandas as pd\n",
    "import matplotlib.pyplot as plt\n",
    "\n",
    "# plotting/mapmaknig\n",
    "import geopandas as gpd\n",
    "import contextily as cx\n",
    "import shapely\n",
    "# import folium\n",
    "\n",
    "# webscraping\n",
    "import json\n",
    "import urllib\n",
    "from bs4 import BeautifulSoup\n",
    "from urllib.request import urlopen\n",
    "\n",
    "# os\n",
    "import subprocess\n",
    "import os"
   ]
  },
  {
   "cell_type": "markdown",
   "id": "3e8f7519-fdb8-42f8-bbdf-8588f6fc196a",
   "metadata": {},
   "source": [
    "# Load outlines of countries"
   ]
  },
  {
   "cell_type": "code",
   "execution_count": 2,
   "id": "caafafa2-133f-45f1-aafd-25bcaf23b41a",
   "metadata": {},
   "outputs": [
    {
     "data": {
      "text/html": [
       "<div>\n",
       "<style scoped>\n",
       "    .dataframe tbody tr th:only-of-type {\n",
       "        vertical-align: middle;\n",
       "    }\n",
       "\n",
       "    .dataframe tbody tr th {\n",
       "        vertical-align: top;\n",
       "    }\n",
       "\n",
       "    .dataframe thead th {\n",
       "        text-align: right;\n",
       "    }\n",
       "</style>\n",
       "<table border=\"1\" class=\"dataframe\">\n",
       "  <thead>\n",
       "    <tr style=\"text-align: right;\">\n",
       "      <th></th>\n",
       "      <th>geometry</th>\n",
       "      <th>scalerank</th>\n",
       "      <th>labelrank</th>\n",
       "      <th>sovereignt</th>\n",
       "      <th>sov_a3</th>\n",
       "      <th>adm0_dif</th>\n",
       "      <th>level</th>\n",
       "      <th>type</th>\n",
       "      <th>admin</th>\n",
       "      <th>adm0_a3</th>\n",
       "      <th>...</th>\n",
       "      <th>continent</th>\n",
       "      <th>region_un</th>\n",
       "      <th>subregion</th>\n",
       "      <th>region_wb</th>\n",
       "      <th>name_len</th>\n",
       "      <th>long_len</th>\n",
       "      <th>abbrev_len</th>\n",
       "      <th>tiny</th>\n",
       "      <th>homepart</th>\n",
       "      <th>featureclass</th>\n",
       "    </tr>\n",
       "  </thead>\n",
       "  <tbody>\n",
       "    <tr>\n",
       "      <th>0</th>\n",
       "      <td>POLYGON ((-69.89912 12.45200, -69.89570 12.423...</td>\n",
       "      <td>3</td>\n",
       "      <td>5</td>\n",
       "      <td>Netherlands</td>\n",
       "      <td>NL1</td>\n",
       "      <td>1</td>\n",
       "      <td>2</td>\n",
       "      <td>Country</td>\n",
       "      <td>Aruba</td>\n",
       "      <td>ABW</td>\n",
       "      <td>...</td>\n",
       "      <td>North America</td>\n",
       "      <td>Americas</td>\n",
       "      <td>Caribbean</td>\n",
       "      <td>Latin America &amp; Caribbean</td>\n",
       "      <td>5</td>\n",
       "      <td>5</td>\n",
       "      <td>5</td>\n",
       "      <td>4</td>\n",
       "      <td>-99</td>\n",
       "      <td>Admin-0 country</td>\n",
       "    </tr>\n",
       "  </tbody>\n",
       "</table>\n",
       "<p>1 rows × 64 columns</p>\n",
       "</div>"
      ],
      "text/plain": [
       "                                            geometry  scalerank  labelrank  \\\n",
       "0  POLYGON ((-69.89912 12.45200, -69.89570 12.423...          3          5   \n",
       "\n",
       "    sovereignt sov_a3  adm0_dif  level     type  admin adm0_a3  ...  \\\n",
       "0  Netherlands    NL1         1      2  Country  Aruba     ABW  ...   \n",
       "\n",
       "       continent region_un  subregion                  region_wb name_len  \\\n",
       "0  North America  Americas  Caribbean  Latin America & Caribbean        5   \n",
       "\n",
       "  long_len  abbrev_len tiny homepart     featureclass  \n",
       "0        5           5    4      -99  Admin-0 country  \n",
       "\n",
       "[1 rows x 64 columns]"
      ]
     },
     "execution_count": 2,
     "metadata": {},
     "output_type": "execute_result"
    }
   ],
   "source": [
    "political_countries_url = (\"http://geojson.xyz/naturalearth-3.3.0/ne_50m_admin_0_countries.geojson\")\n",
    "file = urlopen(political_countries_url).read()\n",
    "input_file =json.loads(file)\n",
    "world = gpd.GeoDataFrame.from_features(input_file)\n",
    "world.head(1)"
   ]
  },
  {
   "cell_type": "code",
   "execution_count": 3,
   "id": "123167df-c043-442f-8688-8da0f2bcd4f2",
   "metadata": {},
   "outputs": [],
   "source": [
    "country_lst = [\"China\",\"Taiwan\",\"Singapore\", \"Denmark\",\"Germany\",\"Netherlands\"] # Netherlands has colonies..."
   ]
  },
  {
   "cell_type": "code",
   "execution_count": 4,
   "id": "22d583ac-762a-48ea-a618-64d6f0e81a83",
   "metadata": {},
   "outputs": [],
   "source": [
    "# to do: cut out geometry of netherlands antilles\n",
    "def crop_nl(gdf):\n",
    "    lst = []\n",
    "    series = gdf.iloc[0].geometry\n",
    "    for geom in series.geoms:\n",
    "        if geom.centroid.x < 0:\n",
    "            pass\n",
    "        else:\n",
    "            lst.append(geom)\n",
    "    return gpd.GeoDataFrame(data={\"admin\":[\"Netherlands\"]},geometry=gpd.GeoSeries.from_wkt([shapely.geometry.MultiPolygon(lst).wkt]))"
   ]
  },
  {
   "cell_type": "code",
   "execution_count": 5,
   "id": "25cd5fbb-f0d7-4650-ae38-d55ec29484ef",
   "metadata": {},
   "outputs": [],
   "source": [
    "country_outline_lst = []\n",
    "for wanted_country in country_lst:\n",
    "    if wanted_country == \"Netherlands\":\n",
    "        nl = crop_nl(world[(world.admin == wanted_country)])\n",
    "        country_outline_lst.append(nl)\n",
    "    else:\n",
    "        country_outline_lst.append(world[(world.admin == wanted_country)])\n",
    "gdf = gpd.GeoDataFrame(pd.concat(country_outline_lst))"
   ]
  },
  {
   "cell_type": "code",
   "execution_count": 6,
   "id": "6a84e4d7-6885-4e47-8bff-7f55abd96e23",
   "metadata": {},
   "outputs": [
    {
     "data": {
      "image/png": "[encoded data removed]",
      "text/plain": [
       "<Figure size 640x480 with 1 Axes>"
      ]
     },
     "metadata": {},
     "output_type": "display_data"
    }
   ],
   "source": [
    "fig, ax = plt.subplots()\n",
    "gdf.plot(facecolor=\"w\",edgecolor=\"k\",ax=ax)\n",
    "gdf.to_file(\"Countries.geojson\")"
   ]
  },
  {
   "cell_type": "markdown",
   "id": "df5a8e73-d72a-40c6-ba1c-fbcc65903964",
   "metadata": {},
   "source": [
    "# scape NOAA climate for data:"
   ]
  },
  {
   "cell_type": "code",
   "execution_count": 7,
   "id": "f5ff2f27-115b-4917-b5c4-1a6fe0d6ca78",
   "metadata": {},
   "outputs": [
    {
     "data": {
      "text/plain": [
       "'https://www.ncei.noaa.gov/data/cmorph-high-resolution-global-precipitation-estimates/'"
      ]
     },
     "execution_count": 7,
     "metadata": {},
     "output_type": "execute_result"
    }
   ],
   "source": [
    "\"https://www.ncei.noaa.gov/data/cmorph-high-resolution-global-precipitation-estimates/\""
   ]
  },
  {
   "cell_type": "code",
   "execution_count": 8,
   "id": "ed89bcd5-92aa-4799-a5da-34db96492ef8",
   "metadata": {},
   "outputs": [],
   "source": [
    "# Define function to run wget command\n",
    "def runcmd(cmd, verbose = False, *args, **kwargs):\n",
    "\n",
    "    process = subprocess.Popen(\n",
    "        cmd,\n",
    "        stdout = subprocess.PIPE,\n",
    "        stderr = subprocess.PIPE,\n",
    "        text = True,\n",
    "        shell = True\n",
    "    )\n",
    "    std_out, std_err = process.communicate()\n",
    "    if verbose:\n",
    "        print(std_out.strip(), std_err)\n",
    "    # return std_err.strip()\n",
    "    pass"
   ]
  },
  {
   "cell_type": "code",
   "execution_count": 9,
   "id": "70098e07-816d-4cd6-9bf3-1285528f2eef",
   "metadata": {},
   "outputs": [],
   "source": [
    "def run_download(url, file_location, verbose=False):\n",
    "    # runcmd(f\"cd {file_location}\", verbose=verbose)\n",
    "    cmd = f\"wget -P {file_location} \"\n",
    "    cmd += url\n",
    "\n",
    "    runcmd(cmd, verbose=verbose);"
   ]
  },
  {
   "cell_type": "code",
   "execution_count": 10,
   "id": "8b53ed8f-3f8a-4991-8336-d075698bb6c1",
   "metadata": {},
   "outputs": [],
   "source": [
    "run = True\n",
    "if run:\n",
    "    for year in [1998, 1999, 2000,2001, 2018,2019,2020,2021]:\n",
    "    # for year in [2001,2021]:\n",
    "        for month in [1,2,3,4,5,6,7,8,9,10,11,12]:\n",
    "            rel_path = f'{month}-{year}'\n",
    "            file_location = os.path.join(\"C:\\\\Users\\david\\\\Documents\\\\nc_file_storage\", rel_path)\n",
    "            # file_location = os.path.join(os.getcwd(), rel_path)\n",
    "            if not os.path.exists(file_location):\n",
    "                os.mkdir(file_location)\n",
    "\n",
    "            if month < 10: url = f\"https://www.ncei.noaa.gov/data/cmorph-high-resolution-global-precipitation-estimates/access/daily/0.25deg/{year}/0{month}/\" \n",
    "            else:          url = f\"https://www.ncei.noaa.gov/data/cmorph-high-resolution-global-precipitation-estimates/access/daily/0.25deg/{year}/{month}/\"  \n",
    "\n",
    "            page = urlopen(url)\n",
    "            html_bytes = page.read()\n",
    "            html = html_bytes.decode(\"utf-8\")\n",
    "\n",
    "            table = html[html.find('<table>'):html.find('</table>')]\n",
    "            table_data = [[cell.text.strip() for cell in row(\"td\")]\n",
    "                                     for row in BeautifulSoup(table)(\"tr\")]\n",
    "            headers = [[cell.text.strip() for cell in row(\"th\")]\n",
    "                                  for row in BeautifulSoup(table)(\"tr\")][0]\n",
    "\n",
    "            df = pd.DataFrame(table_data,columns=headers).dropna()\n",
    "            df = df.drop(df[df.Name==\"Parent Directory\"].index).reset_index(drop=True)\n",
    "\n",
    "            df[\"url\"] = df.apply(lambda x: url + x.Name,axis=1)\n",
    "\n",
    "            for index in df.index:\n",
    "                run_download(df.iloc[index].url,file_location, verbose=False)"
   ]
  },
  {
   "cell_type": "code",
   "execution_count": null,
   "id": "0f83c78f-998d-40ab-a042-35500986175a",
   "metadata": {},
   "outputs": [],
   "source": []
  }
 ],
 "metadata": {
  "kernelspec": {
   "display_name": "Python 3 (ipykernel)",
   "language": "python",
   "name": "python3"
  },
  "language_info": {
   "codemirror_mode": {
    "name": "ipython",
    "version": 3
   },
   "file_extension": ".py",
   "mimetype": "text/x-python",
   "name": "python",
   "nbconvert_exporter": "python",
   "pygments_lexer": "ipython3",
   "version": "3.11.3"
  }
 },
 "nbformat": 4,
 "nbformat_minor": 5
}
