{
 "cells": [
  {
   "cell_type": "code",
   "execution_count": 5,
   "id": "82b9bff6-caa1-48a9-8e95-1a3d020ae331",
   "metadata": {},
   "outputs": [],
   "source": [
    "import xarray as xr\n",
    "import glob\n",
    "import time\n",
    "import os"
   ]
  },
  {
   "cell_type": "code",
   "execution_count": 6,
   "id": "9a689fb1-9836-4757-a33c-d2ea158a8f7c",
   "metadata": {},
   "outputs": [],
   "source": [
    "main_path = \"C:\\\\Users\\david\\\\Documents\\\\nc_file_storage\""
   ]
  },
  {
   "cell_type": "code",
   "execution_count": 15,
   "id": "a00687a3-ef9b-4d27-b81f-c086aeca39c0",
   "metadata": {},
   "outputs": [
    {
     "name": "stdout",
     "output_type": "stream",
     "text": [
      "selected paths at 12:10:55\n",
      "opend at 12:13:01\n",
      "done\n"
     ]
    }
   ],
   "source": [
    "# combine all data sets, rakes long to run so only run if needed\n",
    "run = True \n",
    "if run:\n",
    "    years = [1998, 1999, 2000,2001,2002, 2017, 2018,2019,2020,2021]\n",
    "    files = []\n",
    "    for year in years:\n",
    "        for month in [1,2,3,4,5,6,7,8,9,10,11,12]:\n",
    "            rel_path = f'{month}-{year}'\n",
    "            file_location = os.path.join(main_path, rel_path)\n",
    "            files.append(glob.glob(f'{file_location}\\*.nc'))\n",
    "    print(f\"selected paths at {time.strftime('%H:%M:%S', time.localtime())}\")\n",
    "    files = sum(files, [])\n",
    "    ds = xr.open_mfdataset(files).load()\n",
    "    print(f\"opend at {time.strftime('%H:%M:%S', time.localtime())}\")\n",
    "    ds.to_netcdf(os.path.join(main_path,f\"combined_ds_{years[0]}-{years[-1]}.nc\"))\n",
    "    print(\"done\")"
   ]
  },
  {
   "cell_type": "code",
   "execution_count": 12,
   "id": "db1f039c-664c-460a-a78c-eb1519bd478b",
   "metadata": {},
   "outputs": [
    {
     "data": {
      "text/plain": [
       "2918"
      ]
     },
     "execution_count": 12,
     "metadata": {},
     "output_type": "execute_result"
    }
   ],
   "source": [
    "len(files)"
   ]
  },
  {
   "cell_type": "code",
   "execution_count": null,
   "id": "904f7498-a25e-45f3-8e3c-d7b5b9c27347",
   "metadata": {},
   "outputs": [],
   "source": []
  }
 ],
 "metadata": {
  "kernelspec": {
   "display_name": "Python 3 (ipykernel)",
   "language": "python",
   "name": "python3"
  },
  "language_info": {
   "codemirror_mode": {
    "name": "ipython",
    "version": 3
   },
   "file_extension": ".py",
   "mimetype": "text/x-python",
   "name": "python",
   "nbconvert_exporter": "python",
   "pygments_lexer": "ipython3",
   "version": "3.11.3"
  }
 },
 "nbformat": 4,
 "nbformat_minor": 5
}
